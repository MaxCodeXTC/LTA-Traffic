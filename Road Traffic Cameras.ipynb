{
 "cells": [
  {
   "cell_type": "code",
   "execution_count": 1,
   "metadata": {},
   "outputs": [],
   "source": [
    "import pandas as pd\n",
    "import matplotlib.pyplot as plt\n",
    "import geopandas as gpd\n",
    "from geopandas.tools import sjoin\n",
    "from fiona.crs import from_epsg\n",
    "from descartes.patch import PolygonPatch\n",
    "from shapely.geometry import Point, Polygon"
   ]
  },
  {
   "cell_type": "code",
   "execution_count": 2,
   "metadata": {},
   "outputs": [
    {
     "data": {
      "text/plain": [
       "geopandas.geodataframe.GeoDataFrame"
      ]
     },
     "execution_count": 2,
     "metadata": {},
     "output_type": "execute_result"
    }
   ],
   "source": [
    "# using Singapore subzone-census\n",
    "# set the filepath and load in a shapefile\n",
    "map_df = gpd.read_file('../Capstone_Project /subzone-census-2010/subzone-census2010-shp/')\n",
    "\n",
    "#data type is a GEOdataframe (not a normal dataframe)\n",
    "type(map_df)"
   ]
  },
  {
   "cell_type": "code",
   "execution_count": null,
   "metadata": {},
   "outputs": [],
   "source": []
  },
  {
   "cell_type": "code",
   "execution_count": 3,
   "metadata": {},
   "outputs": [
    {
     "data": {
      "text/html": [
       "<div>\n",
       "<style scoped>\n",
       "    .dataframe tbody tr th:only-of-type {\n",
       "        vertical-align: middle;\n",
       "    }\n",
       "\n",
       "    .dataframe tbody tr th {\n",
       "        vertical-align: top;\n",
       "    }\n",
       "\n",
       "    .dataframe thead th {\n",
       "        text-align: right;\n",
       "    }\n",
       "</style>\n",
       "<table border=\"1\" class=\"dataframe\">\n",
       "  <thead>\n",
       "    <tr style=\"text-align: right;\">\n",
       "      <th></th>\n",
       "      <th>OBJECTID</th>\n",
       "      <th>SUBZONE_NO</th>\n",
       "      <th>SUBZONE_N</th>\n",
       "      <th>SUBZONE_C</th>\n",
       "      <th>CA_IND</th>\n",
       "      <th>PLN_AREA_N</th>\n",
       "      <th>PLN_AREA_C</th>\n",
       "      <th>REGION_N</th>\n",
       "      <th>REGION_C</th>\n",
       "      <th>INC_CRC</th>\n",
       "      <th>FMEL_UPD_D</th>\n",
       "      <th>X_ADDR</th>\n",
       "      <th>Y_ADDR</th>\n",
       "      <th>SHAPE_Leng</th>\n",
       "      <th>SHAPE_Area</th>\n",
       "      <th>geometry</th>\n",
       "    </tr>\n",
       "  </thead>\n",
       "  <tbody>\n",
       "    <tr>\n",
       "      <th>0</th>\n",
       "      <td>1</td>\n",
       "      <td>7</td>\n",
       "      <td>MAXWELL</td>\n",
       "      <td>DTSZ07</td>\n",
       "      <td>Y</td>\n",
       "      <td>DOWNTOWN CORE</td>\n",
       "      <td>DT</td>\n",
       "      <td>CENTRAL REGION</td>\n",
       "      <td>CR</td>\n",
       "      <td>5E3B7679E895F85B</td>\n",
       "      <td>2014-05-02</td>\n",
       "      <td>29392.0489</td>\n",
       "      <td>29096.7515</td>\n",
       "      <td>1419.802555</td>\n",
       "      <td>6.366418e+04</td>\n",
       "      <td>POLYGON ((29537.863 29134.544, 29522.459 29103...</td>\n",
       "    </tr>\n",
       "    <tr>\n",
       "      <th>1</th>\n",
       "      <td>2</td>\n",
       "      <td>1</td>\n",
       "      <td>TANGLIN</td>\n",
       "      <td>ORSZ01</td>\n",
       "      <td>Y</td>\n",
       "      <td>ORCHARD</td>\n",
       "      <td>OR</td>\n",
       "      <td>CENTRAL REGION</td>\n",
       "      <td>CR</td>\n",
       "      <td>3EC2B9D55537C009</td>\n",
       "      <td>2014-05-02</td>\n",
       "      <td>27162.8757</td>\n",
       "      <td>31905.7324</td>\n",
       "      <td>1864.488709</td>\n",
       "      <td>1.675371e+05</td>\n",
       "      <td>POLYGON ((27418.706 31881.413, 27410.555 31879...</td>\n",
       "    </tr>\n",
       "    <tr>\n",
       "      <th>2</th>\n",
       "      <td>3</td>\n",
       "      <td>2</td>\n",
       "      <td>BOULEVARD</td>\n",
       "      <td>ORSZ02</td>\n",
       "      <td>Y</td>\n",
       "      <td>ORCHARD</td>\n",
       "      <td>OR</td>\n",
       "      <td>CENTRAL REGION</td>\n",
       "      <td>CR</td>\n",
       "      <td>0937E2A5F54A1C53</td>\n",
       "      <td>2014-05-02</td>\n",
       "      <td>27916.9271</td>\n",
       "      <td>31967.0064</td>\n",
       "      <td>4109.231492</td>\n",
       "      <td>4.605504e+05</td>\n",
       "      <td>POLYGON ((28366.552 31855.703, 28359.125 31841...</td>\n",
       "    </tr>\n",
       "    <tr>\n",
       "      <th>3</th>\n",
       "      <td>4</td>\n",
       "      <td>3</td>\n",
       "      <td>SOMERSET</td>\n",
       "      <td>ORSZ03</td>\n",
       "      <td>Y</td>\n",
       "      <td>ORCHARD</td>\n",
       "      <td>OR</td>\n",
       "      <td>CENTRAL REGION</td>\n",
       "      <td>CR</td>\n",
       "      <td>1C1A0326CE13A8B1</td>\n",
       "      <td>2014-05-02</td>\n",
       "      <td>28626.5610</td>\n",
       "      <td>31494.9048</td>\n",
       "      <td>3039.805140</td>\n",
       "      <td>3.294379e+05</td>\n",
       "      <td>POLYGON ((28882.434 31681.820, 28882.436 31681...</td>\n",
       "    </tr>\n",
       "    <tr>\n",
       "      <th>4</th>\n",
       "      <td>5</td>\n",
       "      <td>3</td>\n",
       "      <td>PASIR RIS TOWN</td>\n",
       "      <td>PRSZ03</td>\n",
       "      <td>N</td>\n",
       "      <td>PASIR RIS</td>\n",
       "      <td>PR</td>\n",
       "      <td>EAST REGION</td>\n",
       "      <td>ER</td>\n",
       "      <td>37EABA55C9A79089</td>\n",
       "      <td>2014-05-02</td>\n",
       "      <td>40755.8307</td>\n",
       "      <td>39341.7432</td>\n",
       "      <td>5273.291429</td>\n",
       "      <td>1.511612e+06</td>\n",
       "      <td>POLYGON ((41290.234 39671.558, 41291.480 39656...</td>\n",
       "    </tr>\n",
       "    <tr>\n",
       "      <th>5</th>\n",
       "      <td>6</td>\n",
       "      <td>2</td>\n",
       "      <td>MACPHERSON</td>\n",
       "      <td>GLSZ02</td>\n",
       "      <td>N</td>\n",
       "      <td>GEYLANG</td>\n",
       "      <td>GL</td>\n",
       "      <td>CENTRAL REGION</td>\n",
       "      <td>CR</td>\n",
       "      <td>732CC6D2DCC784CF</td>\n",
       "      <td>2014-05-02</td>\n",
       "      <td>33774.3483</td>\n",
       "      <td>34399.1614</td>\n",
       "      <td>4585.788180</td>\n",
       "      <td>1.263409e+06</td>\n",
       "      <td>POLYGON ((34415.029 33909.481, 34357.250 33893...</td>\n",
       "    </tr>\n",
       "    <tr>\n",
       "      <th>6</th>\n",
       "      <td>7</td>\n",
       "      <td>5</td>\n",
       "      <td>GEYLANG EAST</td>\n",
       "      <td>GLSZ05</td>\n",
       "      <td>N</td>\n",
       "      <td>GEYLANG</td>\n",
       "      <td>GL</td>\n",
       "      <td>CENTRAL REGION</td>\n",
       "      <td>CR</td>\n",
       "      <td>84A21DC72BA5355B</td>\n",
       "      <td>2014-05-02</td>\n",
       "      <td>35237.5581</td>\n",
       "      <td>33246.2579</td>\n",
       "      <td>7027.740482</td>\n",
       "      <td>2.580431e+06</td>\n",
       "      <td>POLYGON ((35987.194 33319.391, 36001.551 33245...</td>\n",
       "    </tr>\n",
       "    <tr>\n",
       "      <th>7</th>\n",
       "      <td>8</td>\n",
       "      <td>4</td>\n",
       "      <td>ALJUNIED</td>\n",
       "      <td>GLSZ04</td>\n",
       "      <td>N</td>\n",
       "      <td>GEYLANG</td>\n",
       "      <td>GL</td>\n",
       "      <td>CENTRAL REGION</td>\n",
       "      <td>CR</td>\n",
       "      <td>EA9A22F6E41806C7</td>\n",
       "      <td>2014-05-02</td>\n",
       "      <td>33595.4531</td>\n",
       "      <td>32968.2268</td>\n",
       "      <td>7049.124464</td>\n",
       "      <td>2.945506e+06</td>\n",
       "      <td>POLYGON ((34277.234 32322.636, 34282.432 32306...</td>\n",
       "    </tr>\n",
       "    <tr>\n",
       "      <th>8</th>\n",
       "      <td>9</td>\n",
       "      <td>1</td>\n",
       "      <td>KALLANG WAY</td>\n",
       "      <td>GLSZ01</td>\n",
       "      <td>N</td>\n",
       "      <td>GEYLANG</td>\n",
       "      <td>GL</td>\n",
       "      <td>CENTRAL REGION</td>\n",
       "      <td>CR</td>\n",
       "      <td>B84D516ABCD6BC9C</td>\n",
       "      <td>2014-05-02</td>\n",
       "      <td>32763.7117</td>\n",
       "      <td>34222.9932</td>\n",
       "      <td>4066.569474</td>\n",
       "      <td>9.754296e+05</td>\n",
       "      <td>POLYGON ((33353.539 33865.195, 32740.946 33592...</td>\n",
       "    </tr>\n",
       "    <tr>\n",
       "      <th>9</th>\n",
       "      <td>10</td>\n",
       "      <td>6</td>\n",
       "      <td>DEFU INDUSTRIAL PARK</td>\n",
       "      <td>HGSZ06</td>\n",
       "      <td>N</td>\n",
       "      <td>HOUGANG</td>\n",
       "      <td>HG</td>\n",
       "      <td>NORTH-EAST REGION</td>\n",
       "      <td>NER</td>\n",
       "      <td>12D3314286C3A2DD</td>\n",
       "      <td>2014-05-02</td>\n",
       "      <td>34951.8462</td>\n",
       "      <td>37091.0827</td>\n",
       "      <td>8531.232623</td>\n",
       "      <td>1.971415e+06</td>\n",
       "      <td>POLYGON ((35643.945 37699.182, 35643.926 37699...</td>\n",
       "    </tr>\n",
       "  </tbody>\n",
       "</table>\n",
       "</div>"
      ],
      "text/plain": [
       "   OBJECTID  SUBZONE_NO             SUBZONE_N SUBZONE_C CA_IND     PLN_AREA_N  \\\n",
       "0         1           7               MAXWELL    DTSZ07      Y  DOWNTOWN CORE   \n",
       "1         2           1               TANGLIN    ORSZ01      Y        ORCHARD   \n",
       "2         3           2             BOULEVARD    ORSZ02      Y        ORCHARD   \n",
       "3         4           3              SOMERSET    ORSZ03      Y        ORCHARD   \n",
       "4         5           3        PASIR RIS TOWN    PRSZ03      N      PASIR RIS   \n",
       "5         6           2            MACPHERSON    GLSZ02      N        GEYLANG   \n",
       "6         7           5          GEYLANG EAST    GLSZ05      N        GEYLANG   \n",
       "7         8           4              ALJUNIED    GLSZ04      N        GEYLANG   \n",
       "8         9           1           KALLANG WAY    GLSZ01      N        GEYLANG   \n",
       "9        10           6  DEFU INDUSTRIAL PARK    HGSZ06      N        HOUGANG   \n",
       "\n",
       "  PLN_AREA_C           REGION_N REGION_C           INC_CRC  FMEL_UPD_D  \\\n",
       "0         DT     CENTRAL REGION       CR  5E3B7679E895F85B  2014-05-02   \n",
       "1         OR     CENTRAL REGION       CR  3EC2B9D55537C009  2014-05-02   \n",
       "2         OR     CENTRAL REGION       CR  0937E2A5F54A1C53  2014-05-02   \n",
       "3         OR     CENTRAL REGION       CR  1C1A0326CE13A8B1  2014-05-02   \n",
       "4         PR        EAST REGION       ER  37EABA55C9A79089  2014-05-02   \n",
       "5         GL     CENTRAL REGION       CR  732CC6D2DCC784CF  2014-05-02   \n",
       "6         GL     CENTRAL REGION       CR  84A21DC72BA5355B  2014-05-02   \n",
       "7         GL     CENTRAL REGION       CR  EA9A22F6E41806C7  2014-05-02   \n",
       "8         GL     CENTRAL REGION       CR  B84D516ABCD6BC9C  2014-05-02   \n",
       "9         HG  NORTH-EAST REGION      NER  12D3314286C3A2DD  2014-05-02   \n",
       "\n",
       "       X_ADDR      Y_ADDR   SHAPE_Leng    SHAPE_Area  \\\n",
       "0  29392.0489  29096.7515  1419.802555  6.366418e+04   \n",
       "1  27162.8757  31905.7324  1864.488709  1.675371e+05   \n",
       "2  27916.9271  31967.0064  4109.231492  4.605504e+05   \n",
       "3  28626.5610  31494.9048  3039.805140  3.294379e+05   \n",
       "4  40755.8307  39341.7432  5273.291429  1.511612e+06   \n",
       "5  33774.3483  34399.1614  4585.788180  1.263409e+06   \n",
       "6  35237.5581  33246.2579  7027.740482  2.580431e+06   \n",
       "7  33595.4531  32968.2268  7049.124464  2.945506e+06   \n",
       "8  32763.7117  34222.9932  4066.569474  9.754296e+05   \n",
       "9  34951.8462  37091.0827  8531.232623  1.971415e+06   \n",
       "\n",
       "                                            geometry  \n",
       "0  POLYGON ((29537.863 29134.544, 29522.459 29103...  \n",
       "1  POLYGON ((27418.706 31881.413, 27410.555 31879...  \n",
       "2  POLYGON ((28366.552 31855.703, 28359.125 31841...  \n",
       "3  POLYGON ((28882.434 31681.820, 28882.436 31681...  \n",
       "4  POLYGON ((41290.234 39671.558, 41291.480 39656...  \n",
       "5  POLYGON ((34415.029 33909.481, 34357.250 33893...  \n",
       "6  POLYGON ((35987.194 33319.391, 36001.551 33245...  \n",
       "7  POLYGON ((34277.234 32322.636, 34282.432 32306...  \n",
       "8  POLYGON ((33353.539 33865.195, 32740.946 33592...  \n",
       "9  POLYGON ((35643.945 37699.182, 35643.926 37699...  "
      ]
     },
     "execution_count": 3,
     "metadata": {},
     "output_type": "execute_result"
    }
   ],
   "source": [
    "# View GEOdataframe\n",
    "map_df.head(10)"
   ]
  },
  {
   "cell_type": "code",
   "execution_count": 4,
   "metadata": {},
   "outputs": [
    {
     "data": {
      "text/plain": [
       "(311, 16)"
      ]
     },
     "execution_count": 4,
     "metadata": {},
     "output_type": "execute_result"
    }
   ],
   "source": [
    "map_df.shape"
   ]
  },
  {
   "cell_type": "code",
   "execution_count": 5,
   "metadata": {},
   "outputs": [
    {
     "data": {
      "text/plain": [
       "<bound method Series.unique of 0             MAXWELL\n",
       "1             TANGLIN\n",
       "2           BOULEVARD\n",
       "3            SOMERSET\n",
       "4      PASIR RIS TOWN\n",
       "            ...      \n",
       "306            NASSIM\n",
       "307           DUNEARN\n",
       "308            RIDOUT\n",
       "309          MOULMEIN\n",
       "310      STRAITS VIEW\n",
       "Name: SUBZONE_N, Length: 311, dtype: object>"
      ]
     },
     "execution_count": 5,
     "metadata": {},
     "output_type": "execute_result"
    }
   ],
   "source": [
    "map_df.SUBZONE_N.unique"
   ]
  },
  {
   "cell_type": "code",
   "execution_count": 6,
   "metadata": {},
   "outputs": [
    {
     "data": {
      "text/plain": [
       "<matplotlib.axes._subplots.AxesSubplot at 0x11ba07050>"
      ]
     },
     "execution_count": 6,
     "metadata": {},
     "output_type": "execute_result"
    },
    {
     "data": {
      "image/png": "[encoded data removed]",
      "text/plain": [
       "<Figure size 432x288 with 1 Axes>"
      ]
     },
     "metadata": {
      "needs_background": "light"
     },
     "output_type": "display_data"
    }
   ],
   "source": [
    "map_df.plot()"
   ]
  },
  {
   "cell_type": "code",
   "execution_count": 7,
   "metadata": {},
   "outputs": [
    {
     "data": {
      "text/plain": [
       "geopandas.geodataframe.GeoDataFrame"
      ]
     },
     "execution_count": 7,
     "metadata": {},
     "output_type": "execute_result"
    }
   ],
   "source": [
    "# using Singapore subzone-census\n",
    "# set the filepath and load in a shapefile\n",
    "map_df_2 = gpd.read_file('../Capstone_Project /planning-area-census2010/planning-area-census2010-shp/Planning_Area_Census2010.shp')\n",
    "\n",
    "#data type is a GEOdataframe (not a normal dataframe)\n",
    "type(map_df_2)"
   ]
  },
  {
   "cell_type": "code",
   "execution_count": 8,
   "metadata": {
    "scrolled": true
   },
   "outputs": [
    {
     "data": {
      "text/html": [
       "<div>\n",
       "<style scoped>\n",
       "    .dataframe tbody tr th:only-of-type {\n",
       "        vertical-align: middle;\n",
       "    }\n",
       "\n",
       "    .dataframe tbody tr th {\n",
       "        vertical-align: top;\n",
       "    }\n",
       "\n",
       "    .dataframe thead th {\n",
       "        text-align: right;\n",
       "    }\n",
       "</style>\n",
       "<table border=\"1\" class=\"dataframe\">\n",
       "  <thead>\n",
       "    <tr style=\"text-align: right;\">\n",
       "      <th></th>\n",
       "      <th>OBJECTID</th>\n",
       "      <th>PLN_AREA_N</th>\n",
       "      <th>PLN_AREA_C</th>\n",
       "      <th>CA_IND</th>\n",
       "      <th>REGION_N</th>\n",
       "      <th>REGION_C</th>\n",
       "      <th>INC_CRC</th>\n",
       "      <th>FMEL_UPD_D</th>\n",
       "      <th>X_ADDR</th>\n",
       "      <th>Y_ADDR</th>\n",
       "      <th>SHAPE_Leng</th>\n",
       "      <th>SHAPE_Area</th>\n",
       "      <th>geometry</th>\n",
       "    </tr>\n",
       "  </thead>\n",
       "  <tbody>\n",
       "    <tr>\n",
       "      <th>0</th>\n",
       "      <td>1</td>\n",
       "      <td>PASIR RIS</td>\n",
       "      <td>PR</td>\n",
       "      <td>N</td>\n",
       "      <td>EAST REGION</td>\n",
       "      <td>ER</td>\n",
       "      <td>77F6CE717F532D1A</td>\n",
       "      <td>2014-04-14</td>\n",
       "      <td>40795.4750</td>\n",
       "      <td>40066.2774</td>\n",
       "      <td>22444.999809</td>\n",
       "      <td>1.581071e+07</td>\n",
       "      <td>POLYGON ((41343.113 40442.099, 41375.108 40432...</td>\n",
       "    </tr>\n",
       "    <tr>\n",
       "      <th>1</th>\n",
       "      <td>2</td>\n",
       "      <td>MANDAI</td>\n",
       "      <td>MD</td>\n",
       "      <td>N</td>\n",
       "      <td>NORTH REGION</td>\n",
       "      <td>NR</td>\n",
       "      <td>628E9D38692BCA2F</td>\n",
       "      <td>2014-04-14</td>\n",
       "      <td>24566.8737</td>\n",
       "      <td>45042.7792</td>\n",
       "      <td>17654.485841</td>\n",
       "      <td>1.176684e+07</td>\n",
       "      <td>POLYGON ((27172.695 46340.676, 27184.405 46308...</td>\n",
       "    </tr>\n",
       "    <tr>\n",
       "      <th>2</th>\n",
       "      <td>3</td>\n",
       "      <td>OUTRAM</td>\n",
       "      <td>OT</td>\n",
       "      <td>Y</td>\n",
       "      <td>CENTRAL REGION</td>\n",
       "      <td>CR</td>\n",
       "      <td>F4219E8077ADA3B2</td>\n",
       "      <td>2014-04-14</td>\n",
       "      <td>28972.9596</td>\n",
       "      <td>29477.4882</td>\n",
       "      <td>6159.054476</td>\n",
       "      <td>1.373190e+06</td>\n",
       "      <td>POLYGON ((29543.029 29762.395, 29604.965 29728...</td>\n",
       "    </tr>\n",
       "    <tr>\n",
       "      <th>3</th>\n",
       "      <td>4</td>\n",
       "      <td>MARINA SOUTH</td>\n",
       "      <td>MS</td>\n",
       "      <td>Y</td>\n",
       "      <td>CENTRAL REGION</td>\n",
       "      <td>CR</td>\n",
       "      <td>A2154482A1C94CB5</td>\n",
       "      <td>2014-04-14</td>\n",
       "      <td>31595.8684</td>\n",
       "      <td>29220.1644</td>\n",
       "      <td>5267.582596</td>\n",
       "      <td>1.630477e+06</td>\n",
       "      <td>POLYGON ((32362.434 29303.478, 32243.087 29216...</td>\n",
       "    </tr>\n",
       "    <tr>\n",
       "      <th>4</th>\n",
       "      <td>5</td>\n",
       "      <td>STRAITS VIEW</td>\n",
       "      <td>SV</td>\n",
       "      <td>Y</td>\n",
       "      <td>CENTRAL REGION</td>\n",
       "      <td>CR</td>\n",
       "      <td>559005F6552A085F</td>\n",
       "      <td>2014-04-14</td>\n",
       "      <td>30833.3891</td>\n",
       "      <td>28192.8625</td>\n",
       "      <td>5738.367679</td>\n",
       "      <td>1.129284e+06</td>\n",
       "      <td>MULTIPOLYGON (((31269.211 28028.951, 30966.166...</td>\n",
       "    </tr>\n",
       "  </tbody>\n",
       "</table>\n",
       "</div>"
      ],
      "text/plain": [
       "   OBJECTID    PLN_AREA_N PLN_AREA_C CA_IND        REGION_N REGION_C  \\\n",
       "0         1     PASIR RIS         PR      N     EAST REGION       ER   \n",
       "1         2        MANDAI         MD      N    NORTH REGION       NR   \n",
       "2         3        OUTRAM         OT      Y  CENTRAL REGION       CR   \n",
       "3         4  MARINA SOUTH         MS      Y  CENTRAL REGION       CR   \n",
       "4         5  STRAITS VIEW         SV      Y  CENTRAL REGION       CR   \n",
       "\n",
       "            INC_CRC  FMEL_UPD_D      X_ADDR      Y_ADDR    SHAPE_Leng  \\\n",
       "0  77F6CE717F532D1A  2014-04-14  40795.4750  40066.2774  22444.999809   \n",
       "1  628E9D38692BCA2F  2014-04-14  24566.8737  45042.7792  17654.485841   \n",
       "2  F4219E8077ADA3B2  2014-04-14  28972.9596  29477.4882   6159.054476   \n",
       "3  A2154482A1C94CB5  2014-04-14  31595.8684  29220.1644   5267.582596   \n",
       "4  559005F6552A085F  2014-04-14  30833.3891  28192.8625   5738.367679   \n",
       "\n",
       "     SHAPE_Area                                           geometry  \n",
       "0  1.581071e+07  POLYGON ((41343.113 40442.099, 41375.108 40432...  \n",
       "1  1.176684e+07  POLYGON ((27172.695 46340.676, 27184.405 46308...  \n",
       "2  1.373190e+06  POLYGON ((29543.029 29762.395, 29604.965 29728...  \n",
       "3  1.630477e+06  POLYGON ((32362.434 29303.478, 32243.087 29216...  \n",
       "4  1.129284e+06  MULTIPOLYGON (((31269.211 28028.951, 30966.166...  "
      ]
     },
     "execution_count": 8,
     "metadata": {},
     "output_type": "execute_result"
    }
   ],
   "source": [
    "# View GEOdataframe\n",
    "map_df_2.head()"
   ]
  },
  {
   "cell_type": "code",
   "execution_count": 9,
   "metadata": {},
   "outputs": [
    {
     "data": {
      "text/plain": [
       "(55, 13)"
      ]
     },
     "execution_count": 9,
     "metadata": {},
     "output_type": "execute_result"
    }
   ],
   "source": [
    "map_df_2.shape"
   ]
  },
  {
   "cell_type": "code",
   "execution_count": 10,
   "metadata": {
    "scrolled": true
   },
   "outputs": [
    {
     "data": {
      "text/plain": [
       "<bound method Series.unique of 0                   PASIR RIS\n",
       "1                      MANDAI\n",
       "2                      OUTRAM\n",
       "3                MARINA SOUTH\n",
       "4                STRAITS VIEW\n",
       "5                      CHANGI\n",
       "6                   SEMBAWANG\n",
       "7                 JURONG EAST\n",
       "8                     PIONEER\n",
       "9                    BOON LAY\n",
       "10                BUKIT MERAH\n",
       "11    WESTERN WATER CATCHMENT\n",
       "12                 ANG MO KIO\n",
       "13                JURONG WEST\n",
       "14                     TENGAH\n",
       "15                    ORCHARD\n",
       "16              CHOA CHU KANG\n",
       "17                    SIMPANG\n",
       "18                   CLEMENTI\n",
       "19                 PAYA LEBAR\n",
       "20                  WOODLANDS\n",
       "21                   SENGKANG\n",
       "22                     YISHUN\n",
       "23            SINGAPORE RIVER\n",
       "24                 QUEENSTOWN\n",
       "25      NORTH-EASTERN ISLANDS\n",
       "26              BUKIT PANJANG\n",
       "27                    TANGLIN\n",
       "28                    GEYLANG\n",
       "29                    PUNGGOL\n",
       "30                BUKIT TIMAH\n",
       "31                       TUAS\n",
       "32               LIM CHU KANG\n",
       "33            WESTERN ISLANDS\n",
       "34                   TAMPINES\n",
       "35                    SELETAR\n",
       "36               SUNGEI KADUT\n",
       "37                BUKIT BATOK\n",
       "38                     MUSEUM\n",
       "39               RIVER VALLEY\n",
       "40                 CHANGI BAY\n",
       "41           SOUTHERN ISLANDS\n",
       "42    CENTRAL WATER CATCHMENT\n",
       "43                     NEWTON\n",
       "44              MARINE PARADE\n",
       "45              DOWNTOWN CORE\n",
       "46                    KALLANG\n",
       "47                     BISHAN\n",
       "48                  TOA PAYOH\n",
       "49                    HOUGANG\n",
       "50                  SERANGOON\n",
       "51                      BEDOK\n",
       "52                     ROCHOR\n",
       "53                MARINA EAST\n",
       "54                     NOVENA\n",
       "Name: PLN_AREA_N, dtype: object>"
      ]
     },
     "execution_count": 10,
     "metadata": {},
     "output_type": "execute_result"
    }
   ],
   "source": [
    "map_df_2.PLN_AREA_N.unique"
   ]
  },
  {
   "cell_type": "code",
   "execution_count": 11,
   "metadata": {},
   "outputs": [
    {
     "data": {
      "text/plain": [
       "<matplotlib.axes._subplots.AxesSubplot at 0x11ba27e90>"
      ]
     },
     "execution_count": 11,
     "metadata": {},
     "output_type": "execute_result"
    },
    {
     "data": {
      "image/png": "[encoded data removed]",
      "text/plain": [
       "<Figure size 432x288 with 1 Axes>"
      ]
     },
     "metadata": {
      "needs_background": "light"
     },
     "output_type": "display_data"
    }
   ],
   "source": [
    "map_df_2.plot()"
   ]
  },
  {
   "cell_type": "code",
   "execution_count": 12,
   "metadata": {},
   "outputs": [
    {
     "data": {
      "text/html": [
       "<div>\n",
       "<style scoped>\n",
       "    .dataframe tbody tr th:only-of-type {\n",
       "        vertical-align: middle;\n",
       "    }\n",
       "\n",
       "    .dataframe tbody tr th {\n",
       "        vertical-align: top;\n",
       "    }\n",
       "\n",
       "    .dataframe thead th {\n",
       "        text-align: right;\n",
       "    }\n",
       "</style>\n",
       "<table border=\"1\" class=\"dataframe\">\n",
       "  <thead>\n",
       "    <tr style=\"text-align: right;\">\n",
       "      <th></th>\n",
       "      <th>OBJECTID</th>\n",
       "      <th>PLN_AREA_N</th>\n",
       "      <th>PLN_AREA_C</th>\n",
       "      <th>CA_IND</th>\n",
       "      <th>REGION_N</th>\n",
       "      <th>REGION_C</th>\n",
       "      <th>INC_CRC</th>\n",
       "      <th>FMEL_UPD_D</th>\n",
       "      <th>X_ADDR</th>\n",
       "      <th>Y_ADDR</th>\n",
       "      <th>SHAPE_Leng</th>\n",
       "      <th>SHAPE_Area</th>\n",
       "      <th>geometry</th>\n",
       "      <th>center</th>\n",
       "    </tr>\n",
       "  </thead>\n",
       "  <tbody>\n",
       "    <tr>\n",
       "      <th>0</th>\n",
       "      <td>1</td>\n",
       "      <td>PASIR RIS</td>\n",
       "      <td>PR</td>\n",
       "      <td>N</td>\n",
       "      <td>EAST REGION</td>\n",
       "      <td>ER</td>\n",
       "      <td>77F6CE717F532D1A</td>\n",
       "      <td>2014-04-14</td>\n",
       "      <td>40795.4750</td>\n",
       "      <td>40066.2774</td>\n",
       "      <td>22444.999809</td>\n",
       "      <td>1.581071e+07</td>\n",
       "      <td>POLYGON ((41343.113 40442.099, 41375.108 40432...</td>\n",
       "      <td>POINT (29392.049 29096.752)</td>\n",
       "    </tr>\n",
       "    <tr>\n",
       "      <th>1</th>\n",
       "      <td>2</td>\n",
       "      <td>MANDAI</td>\n",
       "      <td>MD</td>\n",
       "      <td>N</td>\n",
       "      <td>NORTH REGION</td>\n",
       "      <td>NR</td>\n",
       "      <td>628E9D38692BCA2F</td>\n",
       "      <td>2014-04-14</td>\n",
       "      <td>24566.8737</td>\n",
       "      <td>45042.7792</td>\n",
       "      <td>17654.485841</td>\n",
       "      <td>1.176684e+07</td>\n",
       "      <td>POLYGON ((27172.695 46340.676, 27184.405 46308...</td>\n",
       "      <td>POINT (27162.876 31905.732)</td>\n",
       "    </tr>\n",
       "    <tr>\n",
       "      <th>2</th>\n",
       "      <td>3</td>\n",
       "      <td>OUTRAM</td>\n",
       "      <td>OT</td>\n",
       "      <td>Y</td>\n",
       "      <td>CENTRAL REGION</td>\n",
       "      <td>CR</td>\n",
       "      <td>F4219E8077ADA3B2</td>\n",
       "      <td>2014-04-14</td>\n",
       "      <td>28972.9596</td>\n",
       "      <td>29477.4882</td>\n",
       "      <td>6159.054476</td>\n",
       "      <td>1.373190e+06</td>\n",
       "      <td>POLYGON ((29543.029 29762.395, 29604.965 29728...</td>\n",
       "      <td>POINT (27916.927 31967.006)</td>\n",
       "    </tr>\n",
       "    <tr>\n",
       "      <th>3</th>\n",
       "      <td>4</td>\n",
       "      <td>MARINA SOUTH</td>\n",
       "      <td>MS</td>\n",
       "      <td>Y</td>\n",
       "      <td>CENTRAL REGION</td>\n",
       "      <td>CR</td>\n",
       "      <td>A2154482A1C94CB5</td>\n",
       "      <td>2014-04-14</td>\n",
       "      <td>31595.8684</td>\n",
       "      <td>29220.1644</td>\n",
       "      <td>5267.582596</td>\n",
       "      <td>1.630477e+06</td>\n",
       "      <td>POLYGON ((32362.434 29303.478, 32243.087 29216...</td>\n",
       "      <td>POINT (28626.561 31494.905)</td>\n",
       "    </tr>\n",
       "    <tr>\n",
       "      <th>4</th>\n",
       "      <td>5</td>\n",
       "      <td>STRAITS VIEW</td>\n",
       "      <td>SV</td>\n",
       "      <td>Y</td>\n",
       "      <td>CENTRAL REGION</td>\n",
       "      <td>CR</td>\n",
       "      <td>559005F6552A085F</td>\n",
       "      <td>2014-04-14</td>\n",
       "      <td>30833.3891</td>\n",
       "      <td>28192.8625</td>\n",
       "      <td>5738.367679</td>\n",
       "      <td>1.129284e+06</td>\n",
       "      <td>MULTIPOLYGON (((31269.211 28028.951, 30966.166...</td>\n",
       "      <td>POINT (40755.831 39341.743)</td>\n",
       "    </tr>\n",
       "  </tbody>\n",
       "</table>\n",
       "</div>"
      ],
      "text/plain": [
       "   OBJECTID    PLN_AREA_N PLN_AREA_C CA_IND        REGION_N REGION_C  \\\n",
       "0         1     PASIR RIS         PR      N     EAST REGION       ER   \n",
       "1         2        MANDAI         MD      N    NORTH REGION       NR   \n",
       "2         3        OUTRAM         OT      Y  CENTRAL REGION       CR   \n",
       "3         4  MARINA SOUTH         MS      Y  CENTRAL REGION       CR   \n",
       "4         5  STRAITS VIEW         SV      Y  CENTRAL REGION       CR   \n",
       "\n",
       "            INC_CRC  FMEL_UPD_D      X_ADDR      Y_ADDR    SHAPE_Leng  \\\n",
       "0  77F6CE717F532D1A  2014-04-14  40795.4750  40066.2774  22444.999809   \n",
       "1  628E9D38692BCA2F  2014-04-14  24566.8737  45042.7792  17654.485841   \n",
       "2  F4219E8077ADA3B2  2014-04-14  28972.9596  29477.4882   6159.054476   \n",
       "3  A2154482A1C94CB5  2014-04-14  31595.8684  29220.1644   5267.582596   \n",
       "4  559005F6552A085F  2014-04-14  30833.3891  28192.8625   5738.367679   \n",
       "\n",
       "     SHAPE_Area                                           geometry  \\\n",
       "0  1.581071e+07  POLYGON ((41343.113 40442.099, 41375.108 40432...   \n",
       "1  1.176684e+07  POLYGON ((27172.695 46340.676, 27184.405 46308...   \n",
       "2  1.373190e+06  POLYGON ((29543.029 29762.395, 29604.965 29728...   \n",
       "3  1.630477e+06  POLYGON ((32362.434 29303.478, 32243.087 29216...   \n",
       "4  1.129284e+06  MULTIPOLYGON (((31269.211 28028.951, 30966.166...   \n",
       "\n",
       "                        center  \n",
       "0  POINT (29392.049 29096.752)  \n",
       "1  POINT (27162.876 31905.732)  \n",
       "2  POINT (27916.927 31967.006)  \n",
       "3  POINT (28626.561 31494.905)  \n",
       "4  POINT (40755.831 39341.743)  "
      ]
     },
     "execution_count": 12,
     "metadata": {},
     "output_type": "execute_result"
    }
   ],
   "source": [
    "map_df_2[\"center\"] = map_df[\"geometry\"].centroid\n",
    "map_center = map_df_2.set_geometry(\"center\")\n",
    "map_center.head()"
   ]
  },
  {
   "cell_type": "code",
   "execution_count": 13,
   "metadata": {},
   "outputs": [
    {
     "data": {
      "text/plain": [
       "geopandas.geodataframe.GeoDataFrame"
      ]
     },
     "execution_count": 13,
     "metadata": {},
     "output_type": "execute_result"
    }
   ],
   "source": [
    "# using Singapore subzone-census\n",
    "# set the filepath and load in a shapefile\n",
    "map_df_3 = gpd.read_file('../Capstone_Project /lta-road-camera-shp/LTA_Road_Enforcement_Camera.shp')\n",
    "\n",
    "#data type is a GEOdataframe (not a normal dataframe)\n",
    "type(map_df_3)"
   ]
  },
  {
   "cell_type": "code",
   "execution_count": 14,
   "metadata": {},
   "outputs": [
    {
     "data": {
      "text/html": [
       "<div>\n",
       "<style scoped>\n",
       "    .dataframe tbody tr th:only-of-type {\n",
       "        vertical-align: middle;\n",
       "    }\n",
       "\n",
       "    .dataframe tbody tr th {\n",
       "        vertical-align: top;\n",
       "    }\n",
       "\n",
       "    .dataframe thead th {\n",
       "        text-align: right;\n",
       "    }\n",
       "</style>\n",
       "<table border=\"1\" class=\"dataframe\">\n",
       "  <thead>\n",
       "    <tr style=\"text-align: right;\">\n",
       "      <th></th>\n",
       "      <th>OBJECTID</th>\n",
       "      <th>UNIQUE_ID</th>\n",
       "      <th>INC_CRC</th>\n",
       "      <th>FMEL_UPD_D</th>\n",
       "      <th>X_ADDR</th>\n",
       "      <th>Y_ADDR</th>\n",
       "      <th>geometry</th>\n",
       "    </tr>\n",
       "  </thead>\n",
       "  <tbody>\n",
       "    <tr>\n",
       "      <th>0</th>\n",
       "      <td>1</td>\n",
       "      <td>44.0</td>\n",
       "      <td>38F24C75F665AD47</td>\n",
       "      <td>2015-11-18</td>\n",
       "      <td>36090.0712</td>\n",
       "      <td>31518.2385</td>\n",
       "      <td>POINT (36090.071 31518.239)</td>\n",
       "    </tr>\n",
       "    <tr>\n",
       "      <th>1</th>\n",
       "      <td>2</td>\n",
       "      <td>45.0</td>\n",
       "      <td>BE1FD55B03B639F0</td>\n",
       "      <td>2015-11-18</td>\n",
       "      <td>30105.2983</td>\n",
       "      <td>29464.9274</td>\n",
       "      <td>POINT (30105.298 29464.927)</td>\n",
       "    </tr>\n",
       "    <tr>\n",
       "      <th>2</th>\n",
       "      <td>3</td>\n",
       "      <td>46.0</td>\n",
       "      <td>48674AE92CFCDCDD</td>\n",
       "      <td>2015-11-18</td>\n",
       "      <td>30151.2148</td>\n",
       "      <td>29536.3389</td>\n",
       "      <td>POINT (30151.215 29536.339)</td>\n",
       "    </tr>\n",
       "    <tr>\n",
       "      <th>3</th>\n",
       "      <td>4</td>\n",
       "      <td>47.0</td>\n",
       "      <td>7AA7AF5876455785</td>\n",
       "      <td>2015-11-18</td>\n",
       "      <td>30139.7085</td>\n",
       "      <td>29506.3524</td>\n",
       "      <td>POINT (30139.709 29506.352)</td>\n",
       "    </tr>\n",
       "    <tr>\n",
       "      <th>4</th>\n",
       "      <td>5</td>\n",
       "      <td>48.0</td>\n",
       "      <td>4F8E580A4DAE2754</td>\n",
       "      <td>2015-11-18</td>\n",
       "      <td>30157.6359</td>\n",
       "      <td>29554.7141</td>\n",
       "      <td>POINT (30157.636 29554.714)</td>\n",
       "    </tr>\n",
       "  </tbody>\n",
       "</table>\n",
       "</div>"
      ],
      "text/plain": [
       "   OBJECTID  UNIQUE_ID           INC_CRC  FMEL_UPD_D      X_ADDR      Y_ADDR  \\\n",
       "0         1       44.0  38F24C75F665AD47  2015-11-18  36090.0712  31518.2385   \n",
       "1         2       45.0  BE1FD55B03B639F0  2015-11-18  30105.2983  29464.9274   \n",
       "2         3       46.0  48674AE92CFCDCDD  2015-11-18  30151.2148  29536.3389   \n",
       "3         4       47.0  7AA7AF5876455785  2015-11-18  30139.7085  29506.3524   \n",
       "4         5       48.0  4F8E580A4DAE2754  2015-11-18  30157.6359  29554.7141   \n",
       "\n",
       "                      geometry  \n",
       "0  POINT (36090.071 31518.239)  \n",
       "1  POINT (30105.298 29464.927)  \n",
       "2  POINT (30151.215 29536.339)  \n",
       "3  POINT (30139.709 29506.352)  \n",
       "4  POINT (30157.636 29554.714)  "
      ]
     },
     "execution_count": 14,
     "metadata": {},
     "output_type": "execute_result"
    }
   ],
   "source": [
    "# View GEOdataframe\n",
    "map_df_3.head()"
   ]
  },
  {
   "cell_type": "code",
   "execution_count": 15,
   "metadata": {},
   "outputs": [
    {
     "data": {
      "text/plain": [
       "(254, 7)"
      ]
     },
     "execution_count": 15,
     "metadata": {},
     "output_type": "execute_result"
    }
   ],
   "source": [
    "map_df_3.shape"
   ]
  },
  {
   "cell_type": "code",
   "execution_count": 16,
   "metadata": {},
   "outputs": [
    {
     "data": {
      "text/plain": [
       "<matplotlib.axes._subplots.AxesSubplot at 0x11ba89b90>"
      ]
     },
     "execution_count": 16,
     "metadata": {},
     "output_type": "execute_result"
    },
    {
     "data": {
      "image/png": "[encoded data removed]",
      "text/plain": [
       "<Figure size 432x288 with 1 Axes>"
      ]
     },
     "metadata": {
      "needs_background": "light"
     },
     "output_type": "display_data"
    }
   ],
   "source": [
    "map_df_3.plot()"
   ]
  },
  {
   "cell_type": "code",
   "execution_count": 17,
   "metadata": {},
   "outputs": [],
   "source": [
    "street_map = gpd.read_file('../Capstone_Project /SingaporeBoundary6513/SingaporeBoundary65.shp')"
   ]
  },
  {
   "cell_type": "code",
   "execution_count": 18,
   "metadata": {},
   "outputs": [
    {
     "data": {
      "text/plain": [
       "<matplotlib.axes._subplots.AxesSubplot at 0x11bac9950>"
      ]
     },
     "execution_count": 18,
     "metadata": {},
     "output_type": "execute_result"
    },
    {
     "data": {
      "image/png": "[encoded data removed]",
      "text/plain": [
       "<Figure size 1080x1080 with 1 Axes>"
      ]
     },
     "metadata": {
      "needs_background": "light"
     },
     "output_type": "display_data"
    }
   ],
   "source": [
    "fig,ax = plt.subplots(figsize = (15,15))\n",
    "street_map.plot(ax = ax)"
   ]
  },
  {
   "cell_type": "code",
   "execution_count": 19,
   "metadata": {},
   "outputs": [
    {
     "data": {
      "text/html": [
       "<div>\n",
       "<style scoped>\n",
       "    .dataframe tbody tr th:only-of-type {\n",
       "        vertical-align: middle;\n",
       "    }\n",
       "\n",
       "    .dataframe tbody tr th {\n",
       "        vertical-align: top;\n",
       "    }\n",
       "\n",
       "    .dataframe thead th {\n",
       "        text-align: right;\n",
       "    }\n",
       "</style>\n",
       "<table border=\"1\" class=\"dataframe\">\n",
       "  <thead>\n",
       "    <tr style=\"text-align: right;\">\n",
       "      <th></th>\n",
       "      <th>place_name</th>\n",
       "      <th>cordinates</th>\n",
       "      <th>Longitude</th>\n",
       "      <th>Latitude</th>\n",
       "      <th>value</th>\n",
       "    </tr>\n",
       "  </thead>\n",
       "  <tbody>\n",
       "    <tr>\n",
       "      <th>0</th>\n",
       "      <td>38F24C75F665AD47</td>\n",
       "      <td>103.9060115285523,1.301313214309905,0</td>\n",
       "      <td>103.9060115285523</td>\n",
       "      <td>1.301313214309905</td>\n",
       "      <td>0</td>\n",
       "    </tr>\n",
       "    <tr>\n",
       "      <th>1</th>\n",
       "      <td>BE1FD55B03B639F0</td>\n",
       "      <td>103.8522355052062,1.282744773620124,0</td>\n",
       "      <td>103.8522355052062</td>\n",
       "      <td>1.282744773620124</td>\n",
       "      <td>0</td>\n",
       "    </tr>\n",
       "    <tr>\n",
       "      <th>2</th>\n",
       "      <td>48674AE92CFCDCDD</td>\n",
       "      <td>103.852648086767,1.283390591944803,0</td>\n",
       "      <td>103.852648086767</td>\n",
       "      <td>1.283390591944803</td>\n",
       "      <td>0</td>\n",
       "    </tr>\n",
       "    <tr>\n",
       "      <th>3</th>\n",
       "      <td>7AA7AF5876455785</td>\n",
       "      <td>103.8525446970345,1.283119405356261,0</td>\n",
       "      <td>103.8525446970345</td>\n",
       "      <td>1.283119405356261</td>\n",
       "      <td>0</td>\n",
       "    </tr>\n",
       "    <tr>\n",
       "      <th>4</th>\n",
       "      <td>4F8E580A4DAE2754</td>\n",
       "      <td>103.8527057850119,1.283556770359061,0</td>\n",
       "      <td>103.8527057850119</td>\n",
       "      <td>1.283556770359061</td>\n",
       "      <td>0</td>\n",
       "    </tr>\n",
       "    <tr>\n",
       "      <th>...</th>\n",
       "      <td>...</td>\n",
       "      <td>...</td>\n",
       "      <td>...</td>\n",
       "      <td>...</td>\n",
       "      <td>...</td>\n",
       "    </tr>\n",
       "    <tr>\n",
       "      <th>249</th>\n",
       "      <td>9811FFEC052AEE2A</td>\n",
       "      <td>103.8003701000606,1.440593305085348,0</td>\n",
       "      <td>103.8003701000606</td>\n",
       "      <td>1.440593305085348</td>\n",
       "      <td>0</td>\n",
       "    </tr>\n",
       "    <tr>\n",
       "      <th>250</th>\n",
       "      <td>2F85B7CD8460608C</td>\n",
       "      <td>103.9136349999638,1.321558508926931,0</td>\n",
       "      <td>103.9136349999638</td>\n",
       "      <td>1.321558508926931</td>\n",
       "      <td>0</td>\n",
       "    </tr>\n",
       "    <tr>\n",
       "      <th>251</th>\n",
       "      <td>B4057F016B4780EF</td>\n",
       "      <td>103.9060346996001,1.301165870123226,0</td>\n",
       "      <td>103.9060346996001</td>\n",
       "      <td>1.301165870123226</td>\n",
       "      <td>0</td>\n",
       "    </tr>\n",
       "    <tr>\n",
       "      <th>252</th>\n",
       "      <td>C9A2D6A0F38DB6B8</td>\n",
       "      <td>103.8520649016075,1.28264681317461,0</td>\n",
       "      <td>103.8520649016075</td>\n",
       "      <td>1.28264681317461</td>\n",
       "      <td>0</td>\n",
       "    </tr>\n",
       "    <tr>\n",
       "      <th>253</th>\n",
       "      <td>5A48F84D870B6231</td>\n",
       "      <td>103.8500525996839,1.30708200625927,0</td>\n",
       "      <td>103.8500525996839</td>\n",
       "      <td>1.30708200625927</td>\n",
       "      <td>0</td>\n",
       "    </tr>\n",
       "  </tbody>\n",
       "</table>\n",
       "<p>254 rows × 5 columns</p>\n",
       "</div>"
      ],
      "text/plain": [
       "           place_name                              cordinates  \\\n",
       "0    38F24C75F665AD47   103.9060115285523,1.301313214309905,0   \n",
       "1    BE1FD55B03B639F0   103.8522355052062,1.282744773620124,0   \n",
       "2    48674AE92CFCDCDD    103.852648086767,1.283390591944803,0   \n",
       "3    7AA7AF5876455785   103.8525446970345,1.283119405356261,0   \n",
       "4    4F8E580A4DAE2754   103.8527057850119,1.283556770359061,0   \n",
       "..                ...                                     ...   \n",
       "249  9811FFEC052AEE2A   103.8003701000606,1.440593305085348,0   \n",
       "250  2F85B7CD8460608C   103.9136349999638,1.321558508926931,0   \n",
       "251  B4057F016B4780EF   103.9060346996001,1.301165870123226,0   \n",
       "252  C9A2D6A0F38DB6B8    103.8520649016075,1.28264681317461,0   \n",
       "253  5A48F84D870B6231    103.8500525996839,1.30708200625927,0   \n",
       "\n",
       "              Longitude           Latitude value  \n",
       "0     103.9060115285523  1.301313214309905     0  \n",
       "1     103.8522355052062  1.282744773620124     0  \n",
       "2      103.852648086767  1.283390591944803     0  \n",
       "3     103.8525446970345  1.283119405356261     0  \n",
       "4     103.8527057850119  1.283556770359061     0  \n",
       "..                  ...                ...   ...  \n",
       "249   103.8003701000606  1.440593305085348     0  \n",
       "250   103.9136349999638  1.321558508926931     0  \n",
       "251   103.9060346996001  1.301165870123226     0  \n",
       "252   103.8520649016075   1.28264681317461     0  \n",
       "253   103.8500525996839   1.30708200625927     0  \n",
       "\n",
       "[254 rows x 5 columns]"
      ]
     },
     "execution_count": 19,
     "metadata": {},
     "output_type": "execute_result"
    }
   ],
   "source": [
    "from pykml import parser\n",
    "import pandas as pd\n",
    "\n",
    "filename='../Capstone_Project /lta-road-camera/LTA_Road_Enforcement_Camera.kml'\n",
    "with open(filename) as f:\n",
    "    folder = parser.parse(f).getroot().Document.Folder\n",
    "\n",
    "plnm=[]\n",
    "cordi=[]\n",
    "for pm in folder.Placemark:\n",
    "    plnm1=pm.name\n",
    "    plcs1=pm.Point.coordinates\n",
    "    plnm.append(plnm1.text)\n",
    "    cordi.append(plcs1.text)\n",
    "    \n",
    "db=pd.DataFrame()\n",
    "db['place_name']=plnm\n",
    "db['cordinates']=cordi\n",
    "\n",
    "def dump(obj):\n",
    "    for attr in dir(obj):\n",
    "        if hasattr( obj, attr ):\n",
    "            print( \"obj.%s = %s\" % (attr, getattr(obj, attr)))\n",
    "#the kml output plnm1 and plcs1 are objects actually which can be viewed using the dump function from [SO](https://blender.stackexchange.com/questions/1879/is-it-possible-to-dump-an-objects-properties-and-methods)\n",
    "\n",
    "db['Longitude'], db['Latitude'],db['value'] = zip(*db['cordinates'].apply(lambda x: x.split(',', 2)))\n",
    "\n",
    "db"
   ]
  },
  {
   "cell_type": "code",
   "execution_count": 20,
   "metadata": {},
   "outputs": [
    {
     "data": {
      "text/html": [
       "<div>\n",
       "<style scoped>\n",
       "    .dataframe tbody tr th:only-of-type {\n",
       "        vertical-align: middle;\n",
       "    }\n",
       "\n",
       "    .dataframe tbody tr th {\n",
       "        vertical-align: top;\n",
       "    }\n",
       "\n",
       "    .dataframe thead th {\n",
       "        text-align: right;\n",
       "    }\n",
       "</style>\n",
       "<table border=\"1\" class=\"dataframe\">\n",
       "  <thead>\n",
       "    <tr style=\"text-align: right;\">\n",
       "      <th></th>\n",
       "      <th>place_name</th>\n",
       "      <th>Longitude</th>\n",
       "      <th>Latitude</th>\n",
       "      <th>value</th>\n",
       "    </tr>\n",
       "  </thead>\n",
       "  <tbody>\n",
       "    <tr>\n",
       "      <th>0</th>\n",
       "      <td>38F24C75F665AD47</td>\n",
       "      <td>103.9060115285523</td>\n",
       "      <td>1.301313214309905</td>\n",
       "      <td>0</td>\n",
       "    </tr>\n",
       "    <tr>\n",
       "      <th>1</th>\n",
       "      <td>BE1FD55B03B639F0</td>\n",
       "      <td>103.8522355052062</td>\n",
       "      <td>1.282744773620124</td>\n",
       "      <td>0</td>\n",
       "    </tr>\n",
       "    <tr>\n",
       "      <th>2</th>\n",
       "      <td>48674AE92CFCDCDD</td>\n",
       "      <td>103.852648086767</td>\n",
       "      <td>1.283390591944803</td>\n",
       "      <td>0</td>\n",
       "    </tr>\n",
       "    <tr>\n",
       "      <th>3</th>\n",
       "      <td>7AA7AF5876455785</td>\n",
       "      <td>103.8525446970345</td>\n",
       "      <td>1.283119405356261</td>\n",
       "      <td>0</td>\n",
       "    </tr>\n",
       "    <tr>\n",
       "      <th>4</th>\n",
       "      <td>4F8E580A4DAE2754</td>\n",
       "      <td>103.8527057850119</td>\n",
       "      <td>1.283556770359061</td>\n",
       "      <td>0</td>\n",
       "    </tr>\n",
       "  </tbody>\n",
       "</table>\n",
       "</div>"
      ],
      "text/plain": [
       "         place_name           Longitude           Latitude value\n",
       "0  38F24C75F665AD47   103.9060115285523  1.301313214309905     0\n",
       "1  BE1FD55B03B639F0   103.8522355052062  1.282744773620124     0\n",
       "2  48674AE92CFCDCDD    103.852648086767  1.283390591944803     0\n",
       "3  7AA7AF5876455785   103.8525446970345  1.283119405356261     0\n",
       "4  4F8E580A4DAE2754   103.8527057850119  1.283556770359061     0"
      ]
     },
     "execution_count": 20,
     "metadata": {},
     "output_type": "execute_result"
    }
   ],
   "source": [
    "db.drop(columns='cordinates', inplace=True)\n",
    "db.head()"
   ]
  },
  {
   "cell_type": "code",
   "execution_count": 21,
   "metadata": {},
   "outputs": [
    {
     "data": {
      "text/html": [
       "<div>\n",
       "<style scoped>\n",
       "    .dataframe tbody tr th:only-of-type {\n",
       "        vertical-align: middle;\n",
       "    }\n",
       "\n",
       "    .dataframe tbody tr th {\n",
       "        vertical-align: top;\n",
       "    }\n",
       "\n",
       "    .dataframe thead th {\n",
       "        text-align: right;\n",
       "    }\n",
       "</style>\n",
       "<table border=\"1\" class=\"dataframe\">\n",
       "  <thead>\n",
       "    <tr style=\"text-align: right;\">\n",
       "      <th></th>\n",
       "      <th>place_name</th>\n",
       "      <th>Longitude</th>\n",
       "      <th>Latitude</th>\n",
       "    </tr>\n",
       "  </thead>\n",
       "  <tbody>\n",
       "    <tr>\n",
       "      <th>0</th>\n",
       "      <td>38F24C75F665AD47</td>\n",
       "      <td>103.9060115285523</td>\n",
       "      <td>1.301313214309905</td>\n",
       "    </tr>\n",
       "    <tr>\n",
       "      <th>1</th>\n",
       "      <td>BE1FD55B03B639F0</td>\n",
       "      <td>103.8522355052062</td>\n",
       "      <td>1.282744773620124</td>\n",
       "    </tr>\n",
       "    <tr>\n",
       "      <th>2</th>\n",
       "      <td>48674AE92CFCDCDD</td>\n",
       "      <td>103.852648086767</td>\n",
       "      <td>1.283390591944803</td>\n",
       "    </tr>\n",
       "    <tr>\n",
       "      <th>3</th>\n",
       "      <td>7AA7AF5876455785</td>\n",
       "      <td>103.8525446970345</td>\n",
       "      <td>1.283119405356261</td>\n",
       "    </tr>\n",
       "    <tr>\n",
       "      <th>4</th>\n",
       "      <td>4F8E580A4DAE2754</td>\n",
       "      <td>103.8527057850119</td>\n",
       "      <td>1.283556770359061</td>\n",
       "    </tr>\n",
       "  </tbody>\n",
       "</table>\n",
       "</div>"
      ],
      "text/plain": [
       "         place_name           Longitude           Latitude\n",
       "0  38F24C75F665AD47   103.9060115285523  1.301313214309905\n",
       "1  BE1FD55B03B639F0   103.8522355052062  1.282744773620124\n",
       "2  48674AE92CFCDCDD    103.852648086767  1.283390591944803\n",
       "3  7AA7AF5876455785   103.8525446970345  1.283119405356261\n",
       "4  4F8E580A4DAE2754   103.8527057850119  1.283556770359061"
      ]
     },
     "execution_count": 21,
     "metadata": {},
     "output_type": "execute_result"
    }
   ],
   "source": [
    "db.drop(columns='value', inplace=True)\n",
    "db.head()"
   ]
  },
  {
   "cell_type": "code",
   "execution_count": 22,
   "metadata": {},
   "outputs": [],
   "source": [
    "db.Longitude = db.Longitude.astype(float)\n",
    "db.Latitude = db.Latitude.astype(float)"
   ]
  },
  {
   "cell_type": "code",
   "execution_count": 23,
   "metadata": {},
   "outputs": [],
   "source": [
    "decimals = 6\n",
    "db['Longitude'] = db['Longitude'].apply(lambda x: round(x, decimals))\n",
    "db['Latitude'] = db['Latitude'].apply(lambda x: round(x, decimals))"
   ]
  },
  {
   "cell_type": "code",
   "execution_count": 24,
   "metadata": {},
   "outputs": [
    {
     "data": {
      "text/html": [
       "<div>\n",
       "<style scoped>\n",
       "    .dataframe tbody tr th:only-of-type {\n",
       "        vertical-align: middle;\n",
       "    }\n",
       "\n",
       "    .dataframe tbody tr th {\n",
       "        vertical-align: top;\n",
       "    }\n",
       "\n",
       "    .dataframe thead th {\n",
       "        text-align: right;\n",
       "    }\n",
       "</style>\n",
       "<table border=\"1\" class=\"dataframe\">\n",
       "  <thead>\n",
       "    <tr style=\"text-align: right;\">\n",
       "      <th></th>\n",
       "      <th>place_name</th>\n",
       "      <th>Longitude</th>\n",
       "      <th>Latitude</th>\n",
       "    </tr>\n",
       "  </thead>\n",
       "  <tbody>\n",
       "    <tr>\n",
       "      <th>0</th>\n",
       "      <td>38F24C75F665AD47</td>\n",
       "      <td>103.906012</td>\n",
       "      <td>1.301313</td>\n",
       "    </tr>\n",
       "    <tr>\n",
       "      <th>1</th>\n",
       "      <td>BE1FD55B03B639F0</td>\n",
       "      <td>103.852236</td>\n",
       "      <td>1.282745</td>\n",
       "    </tr>\n",
       "    <tr>\n",
       "      <th>2</th>\n",
       "      <td>48674AE92CFCDCDD</td>\n",
       "      <td>103.852648</td>\n",
       "      <td>1.283391</td>\n",
       "    </tr>\n",
       "    <tr>\n",
       "      <th>3</th>\n",
       "      <td>7AA7AF5876455785</td>\n",
       "      <td>103.852545</td>\n",
       "      <td>1.283119</td>\n",
       "    </tr>\n",
       "    <tr>\n",
       "      <th>4</th>\n",
       "      <td>4F8E580A4DAE2754</td>\n",
       "      <td>103.852706</td>\n",
       "      <td>1.283557</td>\n",
       "    </tr>\n",
       "  </tbody>\n",
       "</table>\n",
       "</div>"
      ],
      "text/plain": [
       "         place_name   Longitude  Latitude\n",
       "0  38F24C75F665AD47  103.906012  1.301313\n",
       "1  BE1FD55B03B639F0  103.852236  1.282745\n",
       "2  48674AE92CFCDCDD  103.852648  1.283391\n",
       "3  7AA7AF5876455785  103.852545  1.283119\n",
       "4  4F8E580A4DAE2754  103.852706  1.283557"
      ]
     },
     "execution_count": 24,
     "metadata": {},
     "output_type": "execute_result"
    }
   ],
   "source": [
    "db.head()"
   ]
  },
  {
   "cell_type": "code",
   "execution_count": 25,
   "metadata": {},
   "outputs": [],
   "source": [
    "geometry = [Point(xy) for xy in zip(db['Longitude'], db['Latitude'])]"
   ]
  },
  {
   "cell_type": "code",
   "execution_count": 26,
   "metadata": {},
   "outputs": [
    {
     "data": {
      "text/plain": [
       "[<shapely.geometry.point.Point at 0x11c5e0d50>,\n",
       " <shapely.geometry.point.Point at 0x11c5e0c10>,\n",
       " <shapely.geometry.point.Point at 0x11c5e0c50>,\n",
       " <shapely.geometry.point.Point at 0x11c55d050>,\n",
       " <shapely.geometry.point.Point at 0x11c55d090>]"
      ]
     },
     "execution_count": 26,
     "metadata": {},
     "output_type": "execute_result"
    }
   ],
   "source": [
    "geometry[:5]"
   ]
  },
  {
   "cell_type": "code",
   "execution_count": 27,
   "metadata": {},
   "outputs": [
    {
     "data": {
      "text/html": [
       "<div>\n",
       "<style scoped>\n",
       "    .dataframe tbody tr th:only-of-type {\n",
       "        vertical-align: middle;\n",
       "    }\n",
       "\n",
       "    .dataframe tbody tr th {\n",
       "        vertical-align: top;\n",
       "    }\n",
       "\n",
       "    .dataframe thead th {\n",
       "        text-align: right;\n",
       "    }\n",
       "</style>\n",
       "<table border=\"1\" class=\"dataframe\">\n",
       "  <thead>\n",
       "    <tr style=\"text-align: right;\">\n",
       "      <th></th>\n",
       "      <th>place_name</th>\n",
       "      <th>Longitude</th>\n",
       "      <th>Latitude</th>\n",
       "      <th>geometry</th>\n",
       "    </tr>\n",
       "  </thead>\n",
       "  <tbody>\n",
       "    <tr>\n",
       "      <th>0</th>\n",
       "      <td>38F24C75F665AD47</td>\n",
       "      <td>103.906012</td>\n",
       "      <td>1.301313</td>\n",
       "      <td>POINT (103.90601 1.30131)</td>\n",
       "    </tr>\n",
       "    <tr>\n",
       "      <th>1</th>\n",
       "      <td>BE1FD55B03B639F0</td>\n",
       "      <td>103.852236</td>\n",
       "      <td>1.282745</td>\n",
       "      <td>POINT (103.85224 1.28275)</td>\n",
       "    </tr>\n",
       "    <tr>\n",
       "      <th>2</th>\n",
       "      <td>48674AE92CFCDCDD</td>\n",
       "      <td>103.852648</td>\n",
       "      <td>1.283391</td>\n",
       "      <td>POINT (103.85265 1.28339)</td>\n",
       "    </tr>\n",
       "    <tr>\n",
       "      <th>3</th>\n",
       "      <td>7AA7AF5876455785</td>\n",
       "      <td>103.852545</td>\n",
       "      <td>1.283119</td>\n",
       "      <td>POINT (103.85255 1.28312)</td>\n",
       "    </tr>\n",
       "    <tr>\n",
       "      <th>4</th>\n",
       "      <td>4F8E580A4DAE2754</td>\n",
       "      <td>103.852706</td>\n",
       "      <td>1.283557</td>\n",
       "      <td>POINT (103.85271 1.28356)</td>\n",
       "    </tr>\n",
       "  </tbody>\n",
       "</table>\n",
       "</div>"
      ],
      "text/plain": [
       "         place_name   Longitude  Latitude                   geometry\n",
       "0  38F24C75F665AD47  103.906012  1.301313  POINT (103.90601 1.30131)\n",
       "1  BE1FD55B03B639F0  103.852236  1.282745  POINT (103.85224 1.28275)\n",
       "2  48674AE92CFCDCDD  103.852648  1.283391  POINT (103.85265 1.28339)\n",
       "3  7AA7AF5876455785  103.852545  1.283119  POINT (103.85255 1.28312)\n",
       "4  4F8E580A4DAE2754  103.852706  1.283557  POINT (103.85271 1.28356)"
      ]
     },
     "execution_count": 27,
     "metadata": {},
     "output_type": "execute_result"
    }
   ],
   "source": [
    "geo_df = gpd.GeoDataFrame(db,\n",
    "                         crs = {'init' :'epsg:4326'},\n",
    "                         geometry = geometry)\n",
    "geo_df.head()"
   ]
  },
  {
   "cell_type": "code",
   "execution_count": 28,
   "metadata": {},
   "outputs": [
    {
     "data": {
      "text/plain": [
       "(254, 4)"
      ]
     },
     "execution_count": 28,
     "metadata": {},
     "output_type": "execute_result"
    }
   ],
   "source": [
    "geo_df.shape"
   ]
  },
  {
   "cell_type": "code",
   "execution_count": 29,
   "metadata": {},
   "outputs": [
    {
     "data": {
      "text/plain": [
       "<matplotlib.legend.Legend at 0x11c577d90>"
      ]
     },
     "execution_count": 29,
     "metadata": {},
     "output_type": "execute_result"
    },
    {
     "data": {
      "image/png": "[encoded data removed]",
      "text/plain": [
       "<Figure size 1080x1080 with 1 Axes>"
      ]
     },
     "metadata": {
      "needs_background": "light"
     },
     "output_type": "display_data"
    }
   ],
   "source": [
    "fig,ax = plt.subplots(figsize = (15,15))\n",
    "street_map.plot(ax = ax, alpha = 0.4, color = 'grey')\n",
    "geo_df.plot(ax = ax, markersize = 20, color = 'black', marker = 'x', label='Traffic Cameras')\n",
    "plt.legend(prop={'size': 20})"
   ]
  },
  {
   "cell_type": "code",
   "execution_count": 30,
   "metadata": {},
   "outputs": [],
   "source": [
    "data = pd.read_csv('../Capstone_Project /road_traffic_condition 3.csv')"
   ]
  },
  {
   "cell_type": "code",
   "execution_count": 31,
   "metadata": {},
   "outputs": [
    {
     "data": {
      "text/html": [
       "<div>\n",
       "<style scoped>\n",
       "    .dataframe tbody tr th:only-of-type {\n",
       "        vertical-align: middle;\n",
       "    }\n",
       "\n",
       "    .dataframe tbody tr th {\n",
       "        vertical-align: top;\n",
       "    }\n",
       "\n",
       "    .dataframe thead th {\n",
       "        text-align: right;\n",
       "    }\n",
       "</style>\n",
       "<table border=\"1\" class=\"dataframe\">\n",
       "  <thead>\n",
       "    <tr style=\"text-align: right;\">\n",
       "      <th></th>\n",
       "      <th>year</th>\n",
       "      <th>ave_speed_expressway</th>\n",
       "      <th>ave_speed_arterial_roads*</th>\n",
       "      <th>ave_daily_traffic_volume_entering_city</th>\n",
       "    </tr>\n",
       "  </thead>\n",
       "  <tbody>\n",
       "    <tr>\n",
       "      <th>0</th>\n",
       "      <td>2004</td>\n",
       "      <td>62.7</td>\n",
       "      <td>24.8</td>\n",
       "      <td>246000</td>\n",
       "    </tr>\n",
       "    <tr>\n",
       "      <th>1</th>\n",
       "      <td>2005</td>\n",
       "      <td>63.0</td>\n",
       "      <td>27.2</td>\n",
       "      <td>244000</td>\n",
       "    </tr>\n",
       "    <tr>\n",
       "      <th>2</th>\n",
       "      <td>2006</td>\n",
       "      <td>61.6</td>\n",
       "      <td>27.1</td>\n",
       "      <td>270400</td>\n",
       "    </tr>\n",
       "    <tr>\n",
       "      <th>3</th>\n",
       "      <td>2007</td>\n",
       "      <td>62.4</td>\n",
       "      <td>26.9</td>\n",
       "      <td>278300</td>\n",
       "    </tr>\n",
       "    <tr>\n",
       "      <th>4</th>\n",
       "      <td>2008</td>\n",
       "      <td>63.3</td>\n",
       "      <td>26.7</td>\n",
       "      <td>278100</td>\n",
       "    </tr>\n",
       "  </tbody>\n",
       "</table>\n",
       "</div>"
      ],
      "text/plain": [
       "   year  ave_speed_expressway  ave_speed_arterial_roads*  \\\n",
       "0  2004                  62.7                       24.8   \n",
       "1  2005                  63.0                       27.2   \n",
       "2  2006                  61.6                       27.1   \n",
       "3  2007                  62.4                       26.9   \n",
       "4  2008                  63.3                       26.7   \n",
       "\n",
       "   ave_daily_traffic_volume_entering_city  \n",
       "0                                  246000  \n",
       "1                                  244000  \n",
       "2                                  270400  \n",
       "3                                  278300  \n",
       "4                                  278100  "
      ]
     },
     "execution_count": 31,
     "metadata": {},
     "output_type": "execute_result"
    }
   ],
   "source": [
    "data.head()"
   ]
  },
  {
   "cell_type": "code",
   "execution_count": null,
   "metadata": {},
   "outputs": [],
   "source": []
  }
 ],
 "metadata": {
  "kernelspec": {
   "display_name": "Python 3",
   "language": "python",
   "name": "python3"
  },
  "language_info": {
   "codemirror_mode": {
    "name": "ipython",
    "version": 3
   },
   "file_extension": ".py",
   "mimetype": "text/x-python",
   "name": "python",
   "nbconvert_exporter": "python",
   "pygments_lexer": "ipython3",
   "version": "3.7.4"
  }
 },
 "nbformat": 4,
 "nbformat_minor": 2
}
